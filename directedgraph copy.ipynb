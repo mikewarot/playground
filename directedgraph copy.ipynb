{
 "cells": [
  {
   "cell_type": "code",
   "execution_count": 6,
   "id": "02197a90-b671-472f-8515-d0899c12243b",
   "metadata": {},
   "outputs": [
    {
     "data": {
      "application/vnd.jupyter.widget-view+json": {
       "model_id": "6ce46a240d114e69bf424522028aed74",
       "version_major": 2,
       "version_minor": 0
      },
      "text/plain": [
       "interactive(children=(IntSlider(value=10, description='showcount', max=20, min=1), Output()), _dom_classes=('w…"
      ]
     },
     "metadata": {},
     "output_type": "display_data"
    },
    {
     "data": {
      "text/plain": [
       "<function __main__.showgraph(showcount)>"
      ]
     },
     "execution_count": 6,
     "metadata": {},
     "output_type": "execute_result"
    }
   ],
   "source": [
    "import networkx as nx\n",
    "from ipywidgets import interact, IntSlider\n",
    "import matplotlib.pyplot as plt\n",
    "\n",
    "nodecount = 20\n",
    "# Generate a random acyclic directed graph\n",
    "graph = nx.gnr_graph(nodecount, 0.3)\n",
    "\n",
    "def showgraph(showcount):\n",
    "    # Display the graph\n",
    "    sg = graph.subgraph(list(range(showcount)))\n",
    "    # nx.draw(sg, with_labels=True)\n",
    "    nx.draw_planar(sg, with_labels=True)\n",
    "    plt.show()\n",
    "\n",
    "interact(showgraph, showcount=IntSlider(min=1, max=20, step=1, value=10))"
   ]
  },
  {
   "cell_type": "code",
   "execution_count": null,
   "id": "7211d0b8-5ee7-4447-872e-084cd6878998",
   "metadata": {},
   "outputs": [],
   "source": []
  }
 ],
 "metadata": {
  "kernelspec": {
   "display_name": "Python 3 (ipykernel)",
   "language": "python",
   "name": "python3"
  },
  "language_info": {
   "codemirror_mode": {
    "name": "ipython",
    "version": 3
   },
   "file_extension": ".py",
   "mimetype": "text/x-python",
   "name": "python",
   "nbconvert_exporter": "python",
   "pygments_lexer": "ipython3",
   "version": "3.12.1"
  }
 },
 "nbformat": 4,
 "nbformat_minor": 5
}
