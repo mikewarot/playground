{
 "cells": [
  {
   "cell_type": "code",
   "execution_count": 1,
   "id": "02197a90-b671-472f-8515-d0899c12243b",
   "metadata": {},
   "outputs": [
    {
     "data": {
      "application/vnd.jupyter.widget-view+json": {
       "model_id": "6ed561787160455a8300635f6ed20e7f",
       "version_major": 2,
       "version_minor": 0
      },
      "text/plain": [
       "interactive(children=(IntSlider(value=10, description='nodecount', max=20, min=1), Output()), _dom_classes=('w…"
      ]
     },
     "metadata": {},
     "output_type": "display_data"
    },
    {
     "data": {
      "text/plain": [
       "<function __main__.generate_graph(nodecount)>"
      ]
     },
     "execution_count": 1,
     "metadata": {},
     "output_type": "execute_result"
    }
   ],
   "source": [
    "import networkx as nx\n",
    "from ipywidgets import interact, IntSlider\n",
    "import matplotlib.pyplot as plt\n",
    "def generate_graph(nodecount):\n",
    "    # Generate a random acyclic directed graph\n",
    "    graph = nx.gnr_graph(nodecount, 0.3)\n",
    "\n",
    "    # Display the graph\n",
    "    nx.draw(graph, with_labels=True)\n",
    "    plt.show()\n",
    "\n",
    "interact(generate_graph, nodecount=IntSlider(min=1, max=20, step=1, value=10))"
   ]
  },
  {
   "cell_type": "code",
   "execution_count": null,
   "id": "7211d0b8-5ee7-4447-872e-084cd6878998",
   "metadata": {},
   "outputs": [],
   "source": []
  }
 ],
 "metadata": {
  "kernelspec": {
   "display_name": "Python 3 (ipykernel)",
   "language": "python",
   "name": "python3"
  },
  "language_info": {
   "codemirror_mode": {
    "name": "ipython",
    "version": 3
   },
   "file_extension": ".py",
   "mimetype": "text/x-python",
   "name": "python",
   "nbconvert_exporter": "python",
   "pygments_lexer": "ipython3",
   "version": "3.12.1"
  }
 },
 "nbformat": 4,
 "nbformat_minor": 5
}
